{
 "cells": [
  {
   "cell_type": "markdown",
   "id": "b1164f64",
   "metadata": {},
   "source": [
    "### Q1. Use numpy to generate array of 25 random numbers sampled from a standard normal distribution"
   ]
  },
  {
   "cell_type": "markdown",
   "id": "a45d625b",
   "metadata": {},
   "source": [
    "In Numpy, we are provided with the module called random module that allows us to work with random numbers. The random module provides different methods for data distribution.<br>\n",
    "In this question, I have created an array of 25 random numbers that are part of a normal distribution or Gaussian distribution. This distribution is also called the Bell Curve this is because of its characteristics shape.<br><br>\n",
    "**Syntax:** numpy.random.normal(loc = 0.0, scale = 1.0, size = None)<br>\n",
    "\n",
    "**Parameters:**<br>\n",
    "\n",
    "**loc:** Mean of distribution<br>\n",
    "**scale:** Standard derivation<br> \n",
    "**size:** Resultant shape<br>"
   ]
  },
  {
   "cell_type": "code",
   "execution_count": 1,
   "id": "f9ef6395",
   "metadata": {},
   "outputs": [
    {
     "name": "stdout",
     "output_type": "stream",
     "text": [
      "[ 0.36263918 -0.96784972 -0.30442832 -0.88501074  1.69424311 -1.11152024\n",
      "  0.91440971  0.23788042  0.57860273 -0.69167636  0.1539945   0.99989031\n",
      " -0.45316963  0.36564427 -0.72134379]\n"
     ]
    }
   ],
   "source": [
    "import numpy as np\n",
    "\n",
    "numbers = np.random.normal(size = 15)\n",
    "\n",
    "print(numbers)"
   ]
  },
  {
   "cell_type": "markdown",
   "id": "35dc786f",
   "metadata": {},
   "source": [
    "### Q2. Create a random vector of size 30 and find the mean value."
   ]
  },
  {
   "cell_type": "code",
   "execution_count": 2,
   "id": "beed7d34",
   "metadata": {},
   "outputs": [
    {
     "name": "stdout",
     "output_type": "stream",
     "text": [
      "[22 28 12 15 21 19 21 11  3 20 21  8 21 29  0 23 29  0 22  9 24 18 26 24\n",
      "  2 15 14 16 13  7]\n"
     ]
    },
    {
     "data": {
      "text/plain": [
       "16.433333333333334"
      ]
     },
     "execution_count": 2,
     "metadata": {},
     "output_type": "execute_result"
    }
   ],
   "source": [
    "import numpy as np\n",
    "\n",
    "arr = np.random.randint(low = 0, high = 30, size = 30)\n",
    "\n",
    "print(arr)\n",
    "\n",
    "arr.mean()"
   ]
  },
  {
   "cell_type": "markdown",
   "id": "08de6254",
   "metadata": {},
   "source": [
    "### Q3. Insert 1 to 100 numbers in a numpy array and reshape it to 10*10 matrix."
   ]
  },
  {
   "cell_type": "code",
   "execution_count": 7,
   "id": "998fa56f",
   "metadata": {},
   "outputs": [
    {
     "name": "stdout",
     "output_type": "stream",
     "text": [
      "array before reshape:\n",
      " [  1   2   3   4   5   6   7   8   9  10  11  12  13  14  15  16  17  18\n",
      "  19  20  21  22  23  24  25  26  27  28  29  30  31  32  33  34  35  36\n",
      "  37  38  39  40  41  42  43  44  45  46  47  48  49  50  51  52  53  54\n",
      "  55  56  57  58  59  60  61  62  63  64  65  66  67  68  69  70  71  72\n",
      "  73  74  75  76  77  78  79  80  81  82  83  84  85  86  87  88  89  90\n",
      "  91  92  93  94  95  96  97  98  99 100]\n",
      "\n",
      "array after reshape:\n",
      " [[  1   2   3   4   5   6   7   8   9  10]\n",
      " [ 11  12  13  14  15  16  17  18  19  20]\n",
      " [ 21  22  23  24  25  26  27  28  29  30]\n",
      " [ 31  32  33  34  35  36  37  38  39  40]\n",
      " [ 41  42  43  44  45  46  47  48  49  50]\n",
      " [ 51  52  53  54  55  56  57  58  59  60]\n",
      " [ 61  62  63  64  65  66  67  68  69  70]\n",
      " [ 71  72  73  74  75  76  77  78  79  80]\n",
      " [ 81  82  83  84  85  86  87  88  89  90]\n",
      " [ 91  92  93  94  95  96  97  98  99 100]]\n"
     ]
    }
   ],
   "source": [
    "import numpy as np\n",
    "\n",
    "num = np.arange(1,101)\n",
    "\n",
    "print(f\"array before reshape:\\n {num}\")\n",
    "\n",
    "num = np.reshape(num,(10,10))\n",
    "\n",
    "print(f\"\\narray after reshape:\\n {num}\")"
   ]
  },
  {
   "cell_type": "markdown",
   "id": "b0256b81",
   "metadata": {},
   "source": [
    "### Q4. Create a 10x10 array with random values and find the minimum and maximum values."
   ]
  },
  {
   "cell_type": "code",
   "execution_count": 8,
   "id": "6f572b0f",
   "metadata": {},
   "outputs": [
    {
     "name": "stdout",
     "output_type": "stream",
     "text": [
      "Minimum value of array: 0.0011326733424431579\n",
      "\n",
      "Maximum value of array: 0.9938811924726205\n",
      "\n"
     ]
    }
   ],
   "source": [
    "import numpy as np\n",
    "\n",
    "values = np.random.random((10,10))\n",
    "\n",
    "print(f\"Minimum value of array: {values.min()}\\n\")\n",
    "\n",
    "print(f\"Maximum value of array: {values.max()}\\n\")"
   ]
  },
  {
   "cell_type": "markdown",
   "id": "600cfea4",
   "metadata": {},
   "source": [
    "### Q5. Find Dot product of two arrays\n",
    "\n",
    "### f = np.array([1,2])\n",
    "\n",
    "### g = np.array([4,5])\n",
    "\n"
   ]
  },
  {
   "cell_type": "code",
   "execution_count": 9,
   "id": "b06d660d",
   "metadata": {},
   "outputs": [
    {
     "name": "stdout",
     "output_type": "stream",
     "text": [
      "14\n"
     ]
    }
   ],
   "source": [
    "import numpy as np\n",
    "\n",
    "f = np.array([1,2])\n",
    "\n",
    "g = np.array([4,5])\n",
    "\n",
    "mul = np.dot(f,g)\n",
    "\n",
    "print(mul)"
   ]
  },
  {
   "cell_type": "markdown",
   "id": "0ddce8eb",
   "metadata": {},
   "source": [
    "### Q6. Concatenate following arrays along axis=0\n",
    "\n",
    "### x=np.array([[1,2],[3,4]])\n",
    "\n",
    "### y=np.array([[5,6]])"
   ]
  },
  {
   "cell_type": "code",
   "execution_count": 10,
   "id": "5a485330",
   "metadata": {},
   "outputs": [
    {
     "name": "stdout",
     "output_type": "stream",
     "text": [
      "[[1 2]\n",
      " [3 4]\n",
      " [5 6]]\n"
     ]
    }
   ],
   "source": [
    "import numpy as np\n",
    "\n",
    "x=np.array([[1,2],[3,4]])\n",
    "\n",
    "y=np.array([[5,6]])\n",
    "\n",
    "comb = np.concatenate((x,y), axis = 0)\n",
    "\n",
    "print(comb)"
   ]
  },
  {
   "cell_type": "markdown",
   "id": "676be705",
   "metadata": {},
   "source": [
    "### Q7. How to get the common items between two python numpy arrays?\n",
    "\n",
    "### a = np.array([1,2,3,2,3,4,3,4,5,6])\n",
    "\n",
    "### b = np.array([7,2,10,2,7,4,9,4,9,8])"
   ]
  },
  {
   "cell_type": "code",
   "execution_count": 11,
   "id": "34a76c58",
   "metadata": {},
   "outputs": [
    {
     "name": "stdout",
     "output_type": "stream",
     "text": [
      "[2 4]\n"
     ]
    }
   ],
   "source": [
    "import numpy as np\n",
    "\n",
    "a = np.array([1,2,3,2,3,4,3,4,5,6])\n",
    "\n",
    "b = np.array([7,2,10,2,7,4,9,4,9,8])\n",
    "\n",
    "common = np.intersect1d(a,b)\n",
    "\n",
    "print(common)"
   ]
  },
  {
   "cell_type": "markdown",
   "id": "527abb09",
   "metadata": {},
   "source": [
    "### Q8. Sort the numpy array:\n",
    "\n",
    "### arr = np.array([10,5,8,4,7,2,3,1])"
   ]
  },
  {
   "cell_type": "code",
   "execution_count": 12,
   "id": "b825aa06",
   "metadata": {},
   "outputs": [
    {
     "name": "stdout",
     "output_type": "stream",
     "text": [
      "[ 1  2  3  4  5  7  8 10]\n"
     ]
    }
   ],
   "source": [
    "import numpy as np\n",
    "\n",
    "arr2 = np.array([10,5,8,4,7,2,3,1])\n",
    "\n",
    "arr2 = np.sort(arr2)\n",
    "\n",
    "print(arr2)"
   ]
  }
 ],
 "metadata": {
  "kernelspec": {
   "display_name": "Python 3",
   "language": "python",
   "name": "python3"
  },
  "language_info": {
   "codemirror_mode": {
    "name": "ipython",
    "version": 3
   },
   "file_extension": ".py",
   "mimetype": "text/x-python",
   "name": "python",
   "nbconvert_exporter": "python",
   "pygments_lexer": "ipython3",
   "version": "3.8.8"
  }
 },
 "nbformat": 4,
 "nbformat_minor": 5
}
